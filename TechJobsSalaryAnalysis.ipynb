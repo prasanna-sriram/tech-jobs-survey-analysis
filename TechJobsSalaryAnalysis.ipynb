{
 "cells": [
  {
   "cell_type": "markdown",
   "id": "afe8ab5c",
   "metadata": {},
   "source": [
    "# Web Scrapping"
   ]
  },
  {
   "cell_type": "markdown",
   "id": "ad38d228",
   "metadata": {},
   "source": [
    "### Objectives"
   ]
  },
  {
   "cell_type": "markdown",
   "id": "220e057e",
   "metadata": {},
   "source": [
    "- Extract necessary information from a given web site.\n",
    "- Create appropriate visualizations on the collected data.."
   ]
  },
  {
   "cell_type": "markdown",
   "id": "5977e6ae",
   "metadata": {},
   "source": [
    "#### Extract information from the given web site"
   ]
  },
  {
   "cell_type": "code",
   "execution_count": 1,
   "id": "fc54eb50",
   "metadata": {},
   "outputs": [],
   "source": [
    "url = \"https://cf-courses-data.s3.us.cloud-object-storage.appdomain.cloud/IBM-DA0321EN-SkillsNetwork/labs/datasets/Programming_Languages.html\""
   ]
  },
  {
   "cell_type": "markdown",
   "id": "1ed3b9da",
   "metadata": {},
   "source": [
    "Import the required libraries"
   ]
  },
  {
   "cell_type": "code",
   "execution_count": 2,
   "id": "7a94cd41",
   "metadata": {},
   "outputs": [],
   "source": [
    "from bs4 import BeautifulSoup\n",
    "import requests\n",
    "import pandas as pd"
   ]
  },
  {
   "cell_type": "markdown",
   "id": "2b68d4f8",
   "metadata": {},
   "source": [
    "Download the webpage at the url"
   ]
  },
  {
   "cell_type": "code",
   "execution_count": 3,
   "id": "38dc9244",
   "metadata": {},
   "outputs": [],
   "source": [
    "data = requests.get(url).text"
   ]
  },
  {
   "cell_type": "markdown",
   "id": "473bcae6",
   "metadata": {},
   "source": [
    "Create a soup object"
   ]
  },
  {
   "cell_type": "code",
   "execution_count": 4,
   "id": "fd73ba62",
   "metadata": {},
   "outputs": [],
   "source": [
    "soup = BeautifulSoup(data,\"html.parser\")"
   ]
  },
  {
   "cell_type": "markdown",
   "id": "631c4d7d",
   "metadata": {},
   "source": [
    "Scrape the Language name and annual average salary."
   ]
  },
  {
   "cell_type": "code",
   "execution_count": 5,
   "id": "2e6a537e",
   "metadata": {},
   "outputs": [
    {
     "data": {
      "text/plain": [
       "[{'Language': 'Python', 'Avg Salary': 114383},\n",
       " {'Language': 'Java', 'Avg Salary': 101013},\n",
       " {'Language': 'R', 'Avg Salary': 92037},\n",
       " {'Language': 'Javascript', 'Avg Salary': 110981},\n",
       " {'Language': 'Swift', 'Avg Salary': 130801},\n",
       " {'Language': 'C++', 'Avg Salary': 113865},\n",
       " {'Language': 'C#', 'Avg Salary': 88726},\n",
       " {'Language': 'PHP', 'Avg Salary': 84727},\n",
       " {'Language': 'SQL', 'Avg Salary': 84793},\n",
       " {'Language': 'Go', 'Avg Salary': 94082}]"
      ]
     },
     "execution_count": 5,
     "metadata": {},
     "output_type": "execute_result"
    }
   ],
   "source": [
    "table = soup.find('table')\n",
    "count = 0\n",
    "popular_lang_salary = []\n",
    "for row in table.find_all('tr'):\n",
    "    count += 1\n",
    "    cols = row.find_all('td')\n",
    "    language_name = cols[1].getText()\n",
    "    avg_salary = cols[3].getText()\n",
    "    if count == 1:\n",
    "        continue\n",
    "    avg_salary = int(avg_salary[1:].replace(',',''))\n",
    "    popular_lang_salary.append({'Language': language_name, 'Avg Salary': avg_salary})\n",
    "popular_lang_salary"
   ]
  },
  {
   "cell_type": "markdown",
   "id": "992e9f1e",
   "metadata": {},
   "source": [
    "Store the data in a dataframe"
   ]
  },
  {
   "cell_type": "code",
   "execution_count": 6,
   "id": "6d645e04",
   "metadata": {},
   "outputs": [
    {
     "data": {
      "text/html": [
       "<div>\n",
       "<style scoped>\n",
       "    .dataframe tbody tr th:only-of-type {\n",
       "        vertical-align: middle;\n",
       "    }\n",
       "\n",
       "    .dataframe tbody tr th {\n",
       "        vertical-align: top;\n",
       "    }\n",
       "\n",
       "    .dataframe thead th {\n",
       "        text-align: right;\n",
       "    }\n",
       "</style>\n",
       "<table border=\"1\" class=\"dataframe\">\n",
       "  <thead>\n",
       "    <tr style=\"text-align: right;\">\n",
       "      <th></th>\n",
       "      <th>Language</th>\n",
       "      <th>Avg Salary</th>\n",
       "    </tr>\n",
       "  </thead>\n",
       "  <tbody>\n",
       "    <tr>\n",
       "      <th>0</th>\n",
       "      <td>Python</td>\n",
       "      <td>114383</td>\n",
       "    </tr>\n",
       "    <tr>\n",
       "      <th>1</th>\n",
       "      <td>Java</td>\n",
       "      <td>101013</td>\n",
       "    </tr>\n",
       "    <tr>\n",
       "      <th>2</th>\n",
       "      <td>R</td>\n",
       "      <td>92037</td>\n",
       "    </tr>\n",
       "    <tr>\n",
       "      <th>3</th>\n",
       "      <td>Javascript</td>\n",
       "      <td>110981</td>\n",
       "    </tr>\n",
       "    <tr>\n",
       "      <th>4</th>\n",
       "      <td>Swift</td>\n",
       "      <td>130801</td>\n",
       "    </tr>\n",
       "    <tr>\n",
       "      <th>5</th>\n",
       "      <td>C++</td>\n",
       "      <td>113865</td>\n",
       "    </tr>\n",
       "    <tr>\n",
       "      <th>6</th>\n",
       "      <td>C#</td>\n",
       "      <td>88726</td>\n",
       "    </tr>\n",
       "    <tr>\n",
       "      <th>7</th>\n",
       "      <td>PHP</td>\n",
       "      <td>84727</td>\n",
       "    </tr>\n",
       "    <tr>\n",
       "      <th>8</th>\n",
       "      <td>SQL</td>\n",
       "      <td>84793</td>\n",
       "    </tr>\n",
       "    <tr>\n",
       "      <th>9</th>\n",
       "      <td>Go</td>\n",
       "      <td>94082</td>\n",
       "    </tr>\n",
       "  </tbody>\n",
       "</table>\n",
       "</div>"
      ],
      "text/plain": [
       "     Language  Avg Salary\n",
       "0      Python      114383\n",
       "1        Java      101013\n",
       "2           R       92037\n",
       "3  Javascript      110981\n",
       "4       Swift      130801\n",
       "5         C++      113865\n",
       "6          C#       88726\n",
       "7         PHP       84727\n",
       "8         SQL       84793\n",
       "9          Go       94082"
      ]
     },
     "execution_count": 6,
     "metadata": {},
     "output_type": "execute_result"
    }
   ],
   "source": [
    "popular_lang_salary_df = pd.DataFrame(data=popular_lang_salary)\n",
    "popular_lang_salary_df"
   ]
  },
  {
   "cell_type": "markdown",
   "id": "737e8916",
   "metadata": {},
   "source": [
    "#### Create a bar chart showing the Annual Average Salary by Programming Languages"
   ]
  },
  {
   "cell_type": "code",
   "execution_count": 7,
   "id": "501c0108",
   "metadata": {},
   "outputs": [
    {
     "data": {
      "image/png": "[encoded data removed]",
      "text/plain": [
       "<Figure size 1500x500 with 1 Axes>"
      ]
     },
     "metadata": {},
     "output_type": "display_data"
    }
   ],
   "source": [
    "ax = popular_lang_salary_df.plot.barh(y='Avg Salary',x='Language',legend=False,figsize=[15,5],title='Average Annual Salary by Programming Language')\n",
    "ax.bar_label(ax.containers[0])\n",
    "index_above = popular_lang_salary_df[popular_lang_salary_df['Avg Salary']>=100000]\n",
    "for idx in popular_lang_salary_df.index:\n",
    "    if idx in index_above.index:\n",
    "        ax.patches[idx].set_color('green')\n",
    "    else:\n",
    "        ax.patches[idx].set_color('red')"
   ]
  },
  {
   "cell_type": "code",
   "execution_count": null,
   "id": "e87f76e9",
   "metadata": {},
   "outputs": [],
   "source": []
  }
 ],
 "metadata": {
  "kernelspec": {
   "display_name": "base",
   "language": "python",
   "name": "python3"
  },
  "language_info": {
   "codemirror_mode": {
    "name": "ipython",
    "version": 3
   },
   "file_extension": ".py",
   "mimetype": "text/x-python",
   "name": "python",
   "nbconvert_exporter": "python",
   "pygments_lexer": "ipython3",
   "version": "3.12.4"
  }
 },
 "nbformat": 4,
 "nbformat_minor": 5
}
